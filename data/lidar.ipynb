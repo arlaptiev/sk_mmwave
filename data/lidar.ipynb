{
 "cells": [
  {
   "cell_type": "code",
   "execution_count": null,
   "id": "7243750c",
   "metadata": {},
   "outputs": [],
   "source": [
    "from nodes.phone_node import Lidar\n",
    "\n",
    "from src.lidar_dsp import detect_planes_and_box"
   ]
  },
  {
   "cell_type": "code",
   "execution_count": null,
   "id": "9c726d50",
   "metadata": {},
   "outputs": [],
   "source": [
    "lidar = Lidar()"
   ]
  },
  {
   "cell_type": "code",
   "execution_count": null,
   "id": "1e2913fa",
   "metadata": {},
   "outputs": [],
   "source": [
    "img, depth_map, meta = lidar.read()"
   ]
  },
  {
   "cell_type": "code",
   "execution_count": null,
   "id": "7b6e02d9",
   "metadata": {},
   "outputs": [],
   "source": [
    "floor_dist, box_dist, table_dist = detect_planes_and_box(img, depth_map, meta)\n",
    "print('floor_dist', floor_dist)\n",
    "print('box_dist', box_dist)\n",
    "print('table_dist', table_dist)"
   ]
  }
 ],
 "metadata": {
  "language_info": {
   "name": "python"
  }
 },
 "nbformat": 4,
 "nbformat_minor": 5
}
