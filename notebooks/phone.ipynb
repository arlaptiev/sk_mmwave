{
 "cells": [
  {
   "cell_type": "markdown",
   "id": "fbeef4dd",
   "metadata": {},
   "source": [
    "This notebook is a basic example of using the lidar node."
   ]
  },
  {
   "cell_type": "code",
   "execution_count": 7,
   "id": "e3337399",
   "metadata": {},
   "outputs": [],
   "source": [
    "import sys\n",
    "import os\n",
    "\n",
    "# Add the parent directory of the notebook to sys.path\n",
    "sys.path.append(os.path.abspath(os.path.join(os.getcwd(), '..')))"
   ]
  },
  {
   "cell_type": "code",
   "execution_count": 8,
   "id": "7243750c",
   "metadata": {},
   "outputs": [],
   "source": [
    "from nodes.phone import Phone\n",
    "\n",
    "from src.lidar_dsp import detect_planes_and_box"
   ]
  },
  {
   "cell_type": "code",
   "execution_count": 9,
   "id": "9c726d50",
   "metadata": {},
   "outputs": [],
   "source": [
    "phone = Phone()"
   ]
  },
  {
   "cell_type": "code",
   "execution_count": 4,
   "id": "1e2913fa",
   "metadata": {},
   "outputs": [
    {
     "name": "stdout",
     "output_type": "stream",
     "text": [
      "[INFO] Waiting for a single connection on 0.0.0.0:5005...\n",
      "[INFO] Connected by ('192.168.41.172', 58455)\n"
     ]
    }
   ],
   "source": [
    "img, depth_map, meta = phone.read()"
   ]
  },
  {
   "cell_type": "code",
   "execution_count": 5,
   "id": "fa67afa6",
   "metadata": {},
   "outputs": [
    {
     "name": "stdout",
     "output_type": "stream",
     "text": [
      "Image shape: (1440, 1920, 3)\n",
      "Depth map shape: (192, 256)\n",
      "Meta data: {'timestamp': 38067.38121325, 'camera_position': [-1.0629162788391113, -0.5488965511322021, 0.6568591594696045], 'intrinsics': [[1412.10498046875, 0, 0], [0, 1412.10498046875, 0], [957.4035034179688, 720.0597534179688, 1]], 'location': {'lat': 42.360431408686324, 'lon': -71.08736301713516}, 'camera_orientation': [[-0.09755115211009979, 0.11195158958435059, -0.9889137744903564], [-0.9951833486557007, -0.001308559556491673, 0.09802146255970001], [0.009679604321718216, 0.9937127828598022, 0.11154001951217651]]}\n"
     ]
    }
   ],
   "source": [
    "print(\"Image shape:\", img.shape)\n",
    "print(\"Depth map shape:\", depth_map.shape)\n",
    "print(\"Meta data:\", meta)"
   ]
  },
  {
   "cell_type": "code",
   "execution_count": 6,
   "id": "7b6e02d9",
   "metadata": {},
   "outputs": [
    {
     "name": "stdout",
     "output_type": "stream",
     "text": [
      "floor_dist 0.15095659496275476\n",
      "box_dist 0.04822901680362368\n",
      "table_dist 0.009852131947639217\n"
     ]
    }
   ],
   "source": [
    "floor_dist, box_dist, table_dist = detect_planes_and_box(img, depth_map, meta)\n",
    "print('floor_dist', floor_dist)\n",
    "print('box_dist', box_dist)\n",
    "print('table_dist', table_dist)"
   ]
  }
 ],
 "metadata": {
  "kernelspec": {
   "display_name": "base",
   "language": "python",
   "name": "python3"
  },
  "language_info": {
   "codemirror_mode": {
    "name": "ipython",
    "version": 3
   },
   "file_extension": ".py",
   "mimetype": "text/x-python",
   "name": "python",
   "nbconvert_exporter": "python",
   "pygments_lexer": "ipython3",
   "version": "3.9.7"
  }
 },
 "nbformat": 4,
 "nbformat_minor": 5
}
