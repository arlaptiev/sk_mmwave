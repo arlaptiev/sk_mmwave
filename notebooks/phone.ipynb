{
 "cells": [
  {
   "cell_type": "markdown",
   "id": "fbeef4dd",
   "metadata": {},
   "source": [
    "This notebook is a basic example of using the lidar node."
   ]
  },
  {
   "cell_type": "code",
   "execution_count": 2,
   "id": "e3337399",
   "metadata": {},
   "outputs": [],
   "source": [
    "import sys\n",
    "import os\n",
    "\n",
    "# Add the parent directory of the notebook to sys.path\n",
    "sys.path.append(os.path.abspath(os.path.join(os.getcwd(), '..')))"
   ]
  },
  {
   "cell_type": "code",
   "execution_count": 3,
   "id": "7243750c",
   "metadata": {},
   "outputs": [],
   "source": [
    "from nodes.phone import Phone\n",
    "\n",
    "from src.lidar_dsp import detect_planes_and_box"
   ]
  },
  {
   "cell_type": "code",
   "execution_count": 4,
   "id": "9c726d50",
   "metadata": {},
   "outputs": [],
   "source": [
    "phone = Phone()"
   ]
  },
  {
   "cell_type": "code",
   "execution_count": 5,
   "id": "1e2913fa",
   "metadata": {},
   "outputs": [
    {
     "name": "stdout",
     "output_type": "stream",
     "text": [
      "[INFO] Waiting for a single connection on 0.0.0.0:5005...\n",
      "[INFO] Connected by ('10.31.157.97', 63175)\n"
     ]
    }
   ],
   "source": [
    "img, depth_map, meta = phone.read()"
   ]
  },
  {
   "cell_type": "code",
   "execution_count": 6,
   "id": "fa67afa6",
   "metadata": {},
   "outputs": [
    {
     "name": "stdout",
     "output_type": "stream",
     "text": [
      "Image shape: (1440, 1920, 3)\n",
      "Depth map shape: (192, 256)\n",
      "Meta data: {'intrinsics': [[1419.4813232421875, 0, 0], [0, 1419.4813232421875, 0], [959.6105346679688, 720.4736328125, 1]], 'location': {'lat': 42.35557487952076, 'lon': -71.09864002332714}, 'timestamp': 876.654330333, 'camera_orientation': [[0.5251590609550476, -0.17274869978427887, 0.8332860469818115], [0.8493536710739136, 0.04544672742486, -0.525863766670227], [0.05297217518091202, 0.9839169383049011, 0.1705915480852127]], 'camera_position': [-0.1685509830713272, 0.07680002599954605, 0.10746455192565918]}\n"
     ]
    }
   ],
   "source": [
    "print(\"Image shape:\", img.shape)\n",
    "print(\"Depth map shape:\", depth_map.shape)\n",
    "print(\"Meta data:\", meta)"
   ]
  },
  {
   "cell_type": "code",
   "execution_count": 7,
   "id": "7b6e02d9",
   "metadata": {},
   "outputs": [
    {
     "name": "stdout",
     "output_type": "stream",
     "text": [
      "floor_dist 0.07106841064607147\n",
      "box_dist 0.053447582924133416\n",
      "table_dist 0.042511137597652335\n"
     ]
    }
   ],
   "source": [
    "floor_dist, box_dist, table_dist = detect_planes_and_box(img, depth_map, meta)\n",
    "print('floor_dist', floor_dist)\n",
    "print('box_dist', box_dist)\n",
    "print('table_dist', table_dist)"
   ]
  }
 ],
 "metadata": {
  "kernelspec": {
   "display_name": "6205",
   "language": "python",
   "name": "python3"
  },
  "language_info": {
   "codemirror_mode": {
    "name": "ipython",
    "version": 3
   },
   "file_extension": ".py",
   "mimetype": "text/x-python",
   "name": "python",
   "nbconvert_exporter": "python",
   "pygments_lexer": "ipython3",
   "version": "3.12.5"
  }
 },
 "nbformat": 4,
 "nbformat_minor": 5
}
