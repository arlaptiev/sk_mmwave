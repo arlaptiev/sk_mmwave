{
 "cells": [
  {
   "cell_type": "markdown",
   "id": "e24d59c3",
   "metadata": {},
   "source": [
    "This notebook is a basic example of using the radar node."
   ]
  },
  {
   "cell_type": "code",
   "execution_count": null,
   "id": "adbdc6f1",
   "metadata": {},
   "outputs": [],
   "source": [
    "import sys\n",
    "import os\n",
    "\n",
    "# Add the parent directory of the notebook to sys.path\n",
    "sys.path.append(os.path.abspath(os.path.join(os.getcwd(), '..')))"
   ]
  },
  {
   "cell_type": "code",
   "execution_count": null,
   "id": "7243750c",
   "metadata": {},
   "outputs": [],
   "source": [
    "from nodes.radar import Radar\n",
    "from types import SimpleNamespace"
   ]
  },
  {
   "cell_type": "code",
   "execution_count": null,
   "id": "9c726d50",
   "metadata": {},
   "outputs": [],
   "source": [
    "args = SimpleNamespace(**{\n",
    "  'cfg': 'configs/1443_mmwavestudio_config_continuous.lua',\n",
    "  'host_ip': '192.168.33.30',\n",
    "  'host_data_port': 4098,\n",
    "})\n",
    "radar = Radar(args)\n",
    "\n",
    "c = 3e8                                                 # speed of light - m/s\n",
    "\n",
    "NUM_FRAMES = 100\n",
    "NUM_CHIRP = radar.params['n_chirps']                    # chirp loop count\n",
    "PERIODICITY = radar.params['frame_time']                # periodicity in ms\n",
    "\n",
    "# profile config\n",
    "FREQUENCY = radar.config['START_FREQ']                  # start frequency\n",
    "SAMPLES_PER_CHIRP = radar.params['n_samples']           # adc number of samples per chirp\n",
    "SAMPLE_RATE = radar.params['sample_rate']               # digout sample rate in Hz\n",
    "RAMP_END_TIME_US = radar.config['RAMP_END_TIME']        # us\n",
    "ADC_START_TIME_US = radar.config['ADC_START_TIME']      # us\n",
    "FREQ_SLOPE = radar.params['chirp_slope']                # frequency slope in Hz (/s)\n",
    "\n",
    "# chan & adc config\n",
    "NUMRX = radar.params['n_rx']\n",
    "\n",
    "SWEEP_TIME = SAMPLES_PER_CHIRP / SAMPLE_RATE\n",
    "BANDWIDTH = FREQ_SLOPE * SWEEP_TIME                     # bandwidth in Hz\n",
    "RESOLUTION = c / (2 * BANDWIDTH)                        # range resolution in m"
   ]
  },
  {
   "cell_type": "code",
   "execution_count": null,
   "id": "1e2913fa",
   "metadata": {},
   "outputs": [],
   "source": [
    "frame = radar.read()\n",
    "frame.shape                                             # shape (num_chirps, num_samples, num_rx)"
   ]
  },
  {
   "cell_type": "code",
   "execution_count": null,
   "id": "7b6e02d9",
   "metadata": {},
   "outputs": [],
   "source": [
    "radar.close()"
   ]
  }
 ],
 "metadata": {
  "language_info": {
   "name": "python"
  }
 },
 "nbformat": 4,
 "nbformat_minor": 5
}
