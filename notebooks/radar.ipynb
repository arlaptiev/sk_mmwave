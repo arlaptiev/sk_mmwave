{
 "cells": [
  {
   "cell_type": "markdown",
   "id": "e24d59c3",
   "metadata": {},
   "source": [
    "This notebook is a basic example of using the radar node."
   ]
  },
  {
   "cell_type": "code",
   "execution_count": 7,
   "id": "adbdc6f1",
   "metadata": {},
   "outputs": [],
   "source": [
    "import sys\n",
    "import os\n",
    "\n",
    "# Add the parent directory of the notebook to sys.path\n",
    "sys.path.append(os.path.abspath(os.path.join(os.getcwd(), '..')))"
   ]
  },
  {
   "cell_type": "code",
   "execution_count": 8,
   "id": "7243750c",
   "metadata": {},
   "outputs": [],
   "source": [
    "from nodes.radar import Radar"
   ]
  },
  {
   "cell_type": "code",
   "execution_count": 10,
   "id": "9c726d50",
   "metadata": {},
   "outputs": [
    {
     "name": "stdout",
     "output_type": "stream",
     "text": [
      "[INFO] Starting radar node with config: ../configs/1443_mmwavestudio_config_continuous.lua\n",
      "[INFO] Connecting radar with host 192.168.33.30:4098\n",
      "[INFO] Radar connected. Params:\n",
      "platform                 : xWR14xx\n",
      "adc_output_fmt           : 1\n",
      "n_chirps                 : 32\n",
      "rx                       : 1, 1, 1, 1\n",
      "n_rx                     : 4\n",
      "tx                       : 1, 1, 1\n",
      "n_tx                     : 3\n",
      "n_samples                : 512\n",
      "frame_size               : 262144 bytes\n",
      "frame_time               : 100 ms\n",
      "chirp_time               : 162 µs\n",
      "chirp_slope              : 60012000000000.0000 Hz/s\n",
      "sample_rate              : 10000000.0000 samples/s\n",
      "chirp_sampling_rate      : 320.0000 Hz\n",
      "velocity_max             : 6.0125 m/s\n",
      "velocity_res             : 0.1879 m/s\n",
      "range_max                : 24.9950 m\n",
      "range_res                : 0.0488 m\n",
      "t_sweep                  : 0.0001 s\n"
     ]
    }
   ],
   "source": [
    "radar = Radar(cfg='../configs/1443_mmwavestudio_config_continuous.lua')\n",
    "\n",
    "c = 3e8                                                 # speed of light - m/s\n",
    "\n",
    "# frame config\n",
    "# NUM_FRAMES = 100                                      # number of frames to capture (irrelevant, no capture, continuous mode)\n",
    "NUM_CHIRP = radar.params['n_chirps']                    # chirp loop count\n",
    "PERIODICITY = radar.params['frame_time']                # periodicity in ms\n",
    "\n",
    "# profile config\n",
    "FREQUENCY = radar.config['START_FREQ']                  # start frequency\n",
    "SAMPLES_PER_CHIRP = radar.params['n_samples']           # adc number of samples per chirp\n",
    "SAMPLE_RATE = radar.params['sample_rate']               # digout sample rate in Hz\n",
    "RAMP_END_TIME_US = radar.config['RAMP_END_TIME']        # us\n",
    "ADC_START_TIME_US = radar.config['ADC_START_TIME']      # us\n",
    "FREQ_SLOPE = radar.params['chirp_slope']                # frequency slope in Hz (/s)\n",
    "\n",
    "# chan & adc config\n",
    "NUMRX = radar.params['n_rx']                            # number of rx channels (4)\n",
    "\n",
    "SWEEP_TIME = SAMPLES_PER_CHIRP / SAMPLE_RATE\n",
    "BANDWIDTH = FREQ_SLOPE * SWEEP_TIME                     # bandwidth in Hz\n",
    "RESOLUTION = c / (2 * BANDWIDTH)                        # range resolution in m"
   ]
  },
  {
   "cell_type": "code",
   "execution_count": 11,
   "id": "1e2913fa",
   "metadata": {},
   "outputs": [
    {
     "name": "stdout",
     "output_type": "stream",
     "text": [
      "Packet drop\n"
     ]
    },
    {
     "data": {
      "text/plain": [
       "(32, 512, 4)"
      ]
     },
     "execution_count": 11,
     "metadata": {},
     "output_type": "execute_result"
    }
   ],
   "source": [
    "frame = radar.read()\n",
    "frame.shape                                             # shape (num_chirps, num_samples, num_rx)"
   ]
  },
  {
   "cell_type": "code",
   "execution_count": 12,
   "id": "7b6e02d9",
   "metadata": {},
   "outputs": [],
   "source": [
    "radar.close()"
   ]
  }
 ],
 "metadata": {
  "kernelspec": {
   "display_name": "base",
   "language": "python",
   "name": "python3"
  },
  "language_info": {
   "codemirror_mode": {
    "name": "ipython",
    "version": 3
   },
   "file_extension": ".py",
   "mimetype": "text/x-python",
   "name": "python",
   "nbconvert_exporter": "python",
   "pygments_lexer": "ipython3",
   "version": "3.9.7"
  }
 },
 "nbformat": 4,
 "nbformat_minor": 5
}
