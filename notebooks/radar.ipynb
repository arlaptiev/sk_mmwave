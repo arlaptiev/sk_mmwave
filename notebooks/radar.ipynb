{
 "cells": [
  {
   "cell_type": "markdown",
   "id": "e24d59c3",
   "metadata": {},
   "source": [
    "This notebook is a basic example of using the radar node."
   ]
  },
  {
   "cell_type": "code",
   "execution_count": 7,
   "id": "adbdc6f1",
   "metadata": {},
   "outputs": [],
   "source": [
    "import sys\n",
    "import os\n",
    "\n",
    "# Add the parent directory of the notebook to sys.path\n",
    "sys.path.append(os.path.abspath(os.path.join(os.getcwd(), '..')))"
   ]
  },
  {
   "cell_type": "code",
   "execution_count": 8,
   "id": "7243750c",
   "metadata": {},
   "outputs": [],
   "source": [
    "from nodes.radar import Radar"
   ]
  },
  {
   "cell_type": "code",
   "execution_count": 9,
   "id": "9c726d50",
   "metadata": {},
   "outputs": [
    {
     "name": "stdout",
     "output_type": "stream",
     "text": [
      "[INFO] Starting radar node with config: configs/1443_mmwavestudio_config_continuous.lua\n",
      "[INFO] Connecting radar with host 192.168.33.30:4098\n"
     ]
    },
    {
     "ename": "FileNotFoundError",
     "evalue": "[Errno 2] No such file or directory: 'configs/1443_mmwavestudio_config_continuous.lua'",
     "output_type": "error",
     "traceback": [
      "\u001b[1;31m---------------------------------------------------------------------------\u001b[0m",
      "\u001b[1;31mFileNotFoundError\u001b[0m                         Traceback (most recent call last)",
      "\u001b[1;32mC:\\Users\\SIGNAL~1\\AppData\\Local\\Temp/ipykernel_14824/1264151808.py\u001b[0m in \u001b[0;36m<module>\u001b[1;34m\u001b[0m\n\u001b[1;32m----> 1\u001b[1;33m \u001b[0mradar\u001b[0m \u001b[1;33m=\u001b[0m \u001b[0mRadar\u001b[0m\u001b[1;33m(\u001b[0m\u001b[0mcfg\u001b[0m\u001b[1;33m=\u001b[0m\u001b[1;34m'configs/1443_mmwavestudio_config_continuous.lua'\u001b[0m\u001b[1;33m)\u001b[0m\u001b[1;33m\u001b[0m\u001b[1;33m\u001b[0m\u001b[0m\n\u001b[0m\u001b[0;32m      2\u001b[0m \u001b[1;33m\u001b[0m\u001b[0m\n\u001b[0;32m      3\u001b[0m \u001b[0mc\u001b[0m \u001b[1;33m=\u001b[0m \u001b[1;36m3e8\u001b[0m                                                 \u001b[1;31m# speed of light - m/s\u001b[0m\u001b[1;33m\u001b[0m\u001b[1;33m\u001b[0m\u001b[0m\n\u001b[0;32m      4\u001b[0m \u001b[1;33m\u001b[0m\u001b[0m\n\u001b[0;32m      5\u001b[0m \u001b[1;31m# frame config\u001b[0m\u001b[1;33m\u001b[0m\u001b[1;33m\u001b[0m\u001b[0m\n",
      "\u001b[1;32mc:\\mmwave-phone\\sk_mmwave\\nodes\\radar.py\u001b[0m in \u001b[0;36m__init__\u001b[1;34m(self, cfg, host_ip, host_data_port)\u001b[0m\n\u001b[0;32m     26\u001b[0m         \u001b[0mprint\u001b[0m\u001b[1;33m(\u001b[0m\u001b[1;34mf\"[INFO] Connecting radar with host {host_ip}:{host_data_port}\"\u001b[0m\u001b[1;33m)\u001b[0m\u001b[1;33m\u001b[0m\u001b[1;33m\u001b[0m\u001b[0m\n\u001b[0;32m     27\u001b[0m \u001b[1;33m\u001b[0m\u001b[0m\n\u001b[1;32m---> 28\u001b[1;33m         self.dcapub = DCAPub(\n\u001b[0m\u001b[0;32m     29\u001b[0m             \u001b[0mcfg\u001b[0m\u001b[1;33m=\u001b[0m\u001b[0mcfg\u001b[0m\u001b[1;33m,\u001b[0m\u001b[1;33m\u001b[0m\u001b[1;33m\u001b[0m\u001b[0m\n\u001b[0;32m     30\u001b[0m             \u001b[0mhost_ip\u001b[0m\u001b[1;33m=\u001b[0m\u001b[0mhost_ip\u001b[0m\u001b[1;33m,\u001b[0m\u001b[1;33m\u001b[0m\u001b[1;33m\u001b[0m\u001b[0m\n",
      "\u001b[1;32mc:\\mmwave-phone\\sk_mmwave\\src\\xwr_raw\\dcapub.py\u001b[0m in \u001b[0;36m__init__\u001b[1;34m(self, cfg, dca_ip, host_ip, host_data_port)\u001b[0m\n\u001b[0;32m     40\u001b[0m         \"\"\"\n\u001b[0;32m     41\u001b[0m \u001b[1;33m\u001b[0m\u001b[0m\n\u001b[1;32m---> 42\u001b[1;33m         \u001b[0mself\u001b[0m\u001b[1;33m.\u001b[0m\u001b[0mconfig\u001b[0m \u001b[1;33m=\u001b[0m \u001b[0mRadarConfig\u001b[0m\u001b[1;33m(\u001b[0m\u001b[0mcfg\u001b[0m\u001b[1;33m)\u001b[0m\u001b[1;33m\u001b[0m\u001b[1;33m\u001b[0m\u001b[0m\n\u001b[0m\u001b[0;32m     43\u001b[0m         \u001b[0mself\u001b[0m\u001b[1;33m.\u001b[0m\u001b[0mparams\u001b[0m \u001b[1;33m=\u001b[0m \u001b[0mself\u001b[0m\u001b[1;33m.\u001b[0m\u001b[0mconfig\u001b[0m\u001b[1;33m.\u001b[0m\u001b[0mget_params\u001b[0m\u001b[1;33m(\u001b[0m\u001b[1;33m)\u001b[0m\u001b[1;33m\u001b[0m\u001b[1;33m\u001b[0m\u001b[0m\n\u001b[0;32m     44\u001b[0m \u001b[1;33m\u001b[0m\u001b[0m\n",
      "\u001b[1;32mc:\\mmwave-phone\\sk_mmwave\\src\\xwr_raw\\radar_config.py\u001b[0m in \u001b[0;36m__init__\u001b[1;34m(self, cfg)\u001b[0m\n\u001b[0;32m     30\u001b[0m         \u001b[0msuper\u001b[0m\u001b[1;33m(\u001b[0m\u001b[0mRadarConfig\u001b[0m\u001b[1;33m,\u001b[0m \u001b[0mself\u001b[0m\u001b[1;33m)\u001b[0m\u001b[1;33m.\u001b[0m\u001b[0m__init__\u001b[0m\u001b[1;33m(\u001b[0m\u001b[1;33m)\u001b[0m\u001b[1;33m\u001b[0m\u001b[1;33m\u001b[0m\u001b[0m\n\u001b[0;32m     31\u001b[0m \u001b[1;33m\u001b[0m\u001b[0m\n\u001b[1;32m---> 32\u001b[1;33m         \u001b[0mself\u001b[0m\u001b[1;33m.\u001b[0m\u001b[0mfrom_cfg\u001b[0m\u001b[1;33m(\u001b[0m\u001b[0mcfg\u001b[0m\u001b[1;33m)\u001b[0m\u001b[1;33m\u001b[0m\u001b[1;33m\u001b[0m\u001b[0m\n\u001b[0m\u001b[0;32m     33\u001b[0m \u001b[1;33m\u001b[0m\u001b[0m\n\u001b[0;32m     34\u001b[0m     \u001b[1;32mdef\u001b[0m \u001b[0mfrom_cfg\u001b[0m\u001b[1;33m(\u001b[0m\u001b[0mself\u001b[0m\u001b[1;33m,\u001b[0m \u001b[0mcfg\u001b[0m\u001b[1;33m:\u001b[0m \u001b[0mstr\u001b[0m\u001b[1;33m)\u001b[0m\u001b[1;33m:\u001b[0m\u001b[1;33m\u001b[0m\u001b[1;33m\u001b[0m\u001b[0m\n",
      "\u001b[1;32mc:\\mmwave-phone\\sk_mmwave\\src\\xwr_raw\\radar_config.py\u001b[0m in \u001b[0;36mfrom_cfg\u001b[1;34m(self, cfg)\u001b[0m\n\u001b[0;32m     37\u001b[0m         \"\"\"\n\u001b[0;32m     38\u001b[0m \u001b[1;33m\u001b[0m\u001b[0m\n\u001b[1;32m---> 39\u001b[1;33m         \u001b[1;32mwith\u001b[0m \u001b[0mopen\u001b[0m\u001b[1;33m(\u001b[0m\u001b[0mcfg\u001b[0m\u001b[1;33m,\u001b[0m \u001b[1;34m\"r\"\u001b[0m\u001b[1;33m)\u001b[0m \u001b[1;32mas\u001b[0m \u001b[0mf\u001b[0m\u001b[1;33m:\u001b[0m\u001b[1;33m\u001b[0m\u001b[1;33m\u001b[0m\u001b[0m\n\u001b[0m\u001b[0;32m     40\u001b[0m             \u001b[1;32mfor\u001b[0m \u001b[0mline\u001b[0m \u001b[1;32min\u001b[0m \u001b[0mf\u001b[0m\u001b[1;33m:\u001b[0m\u001b[1;33m\u001b[0m\u001b[1;33m\u001b[0m\u001b[0m\n\u001b[0;32m     41\u001b[0m                 \u001b[1;31m# See if it's a variable assignment\u001b[0m\u001b[1;33m\u001b[0m\u001b[1;33m\u001b[0m\u001b[0m\n",
      "\u001b[1;31mFileNotFoundError\u001b[0m: [Errno 2] No such file or directory: 'configs/1443_mmwavestudio_config_continuous.lua'"
     ]
    }
   ],
   "source": [
    "radar = Radar(cfg='configs/1443_mmwavestudio_config_continuous.lua')\n",
    "\n",
    "c = 3e8                                                 # speed of light - m/s\n",
    "\n",
    "# frame config\n",
    "# NUM_FRAMES = 100                                      # number of frames to capture (irrelevant, no capture, continuous mode)\n",
    "NUM_CHIRP = radar.params['n_chirps']                    # chirp loop count\n",
    "PERIODICITY = radar.params['frame_time']                # periodicity in ms\n",
    "\n",
    "# profile config\n",
    "FREQUENCY = radar.config['START_FREQ']                  # start frequency\n",
    "SAMPLES_PER_CHIRP = radar.params['n_samples']           # adc number of samples per chirp\n",
    "SAMPLE_RATE = radar.params['sample_rate']               # digout sample rate in Hz\n",
    "RAMP_END_TIME_US = radar.config['RAMP_END_TIME']        # us\n",
    "ADC_START_TIME_US = radar.config['ADC_START_TIME']      # us\n",
    "FREQ_SLOPE = radar.params['chirp_slope']                # frequency slope in Hz (/s)\n",
    "\n",
    "# chan & adc config\n",
    "NUMRX = radar.params['n_rx']                            # number of rx channels (4)\n",
    "\n",
    "SWEEP_TIME = SAMPLES_PER_CHIRP / SAMPLE_RATE\n",
    "BANDWIDTH = FREQ_SLOPE * SWEEP_TIME                     # bandwidth in Hz\n",
    "RESOLUTION = c / (2 * BANDWIDTH)                        # range resolution in m"
   ]
  },
  {
   "cell_type": "code",
   "execution_count": null,
   "id": "1e2913fa",
   "metadata": {},
   "outputs": [],
   "source": [
    "frame = radar.read()\n",
    "frame.shape                                             # shape (num_chirps, num_samples, num_rx)"
   ]
  },
  {
   "cell_type": "code",
   "execution_count": null,
   "id": "7b6e02d9",
   "metadata": {},
   "outputs": [],
   "source": [
    "radar.close()"
   ]
  }
 ],
 "metadata": {
  "kernelspec": {
   "display_name": "base",
   "language": "python",
   "name": "python3"
  },
  "language_info": {
   "codemirror_mode": {
    "name": "ipython",
    "version": 3
   },
   "file_extension": ".py",
   "mimetype": "text/x-python",
   "name": "python",
   "nbconvert_exporter": "python",
   "pygments_lexer": "ipython3",
   "version": "3.9.7"
  }
 },
 "nbformat": 4,
 "nbformat_minor": 5
}
